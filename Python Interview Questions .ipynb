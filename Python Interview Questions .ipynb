{
 "cells": [
  {
   "cell_type": "code",
   "execution_count": 5,
   "id": "faa038db",
   "metadata": {},
   "outputs": [
    {
     "name": "stdout",
     "output_type": "stream",
     "text": [
      "Enter the input:Anand\n",
      "A 1\n",
      "n 2\n",
      "a 3\n",
      "n 4\n",
      "d 5\n"
     ]
    }
   ],
   "source": [
    "#input ANAND\n",
    "# A = 1, N = 2 , A = 3, A=4, A=5\n",
    "\n",
    "x= input(\"Enter the input:\")\n",
    "j=0\n",
    "for i in x:\n",
    "    j+=1\n",
    "    print(i,j)"
   ]
  },
  {
   "cell_type": "code",
   "execution_count": 4,
   "id": "b1401908",
   "metadata": {},
   "outputs": [
    {
     "name": "stdout",
     "output_type": "stream",
     "text": [
      "dnanA si eman yM\n"
     ]
    }
   ],
   "source": [
    "#Reverse of a String\n",
    "\n",
    "\n",
    "\n",
    "def my_function(x):\n",
    "    return x [::-1]\n",
    "myreversetext = my_function(\"My name is Anand\")\n",
    "print(myreversetext)"
   ]
  },
  {
   "cell_type": "code",
   "execution_count": 6,
   "id": "cd6d4969",
   "metadata": {},
   "outputs": [
    {
     "name": "stdout",
     "output_type": "stream",
     "text": [
      "the original string: Anand Nishad\n",
      "the reverse of the string: dahsiN dnanA\n"
     ]
    }
   ],
   "source": [
    "#using recursion (simple method)\n",
    "\n",
    "\n",
    "def reverse(s):\n",
    "    if len(s) == 0:\n",
    "        return s\n",
    "    else:\n",
    "        return reverse(s[1:]) + s[0]\n",
    "\n",
    "s = \"Anand Nishad\"\n",
    "\n",
    "print(\"the original string:\",s)\n",
    "print(\"the reverse of the string:\",reverse(s))\n"
   ]
  },
  {
   "cell_type": "code",
   "execution_count": 24,
   "id": "f0dd623e",
   "metadata": {},
   "outputs": [
    {
     "name": "stdout",
     "output_type": "stream",
     "text": [
      "The original string is:  Anand Nishad\n",
      "The reverse string is dahsiN dnanA\n"
     ]
    }
   ],
   "source": [
    "#for loop \n",
    "\n",
    "def reverse_string(str):  \n",
    "    str1 = \"\"                   # Declaring empty string to store the reversed string  \n",
    "    for i in str:  \n",
    "        str1 = i + str1  \n",
    "    return str1                # It will return the reverse string to the caller function  \n",
    "     \n",
    "str = \"Anand Nishad\"             # Given String       \n",
    "print(\"The original string is: \",str)  \n",
    "print(\"The reverse string is\",reverse_string(str))  # Function call  "
   ]
  },
  {
   "cell_type": "code",
   "execution_count": null,
   "id": "48f665c9",
   "metadata": {},
   "outputs": [],
   "source": []
  },
  {
   "cell_type": "code",
   "execution_count": 3,
   "id": "5848a552",
   "metadata": {},
   "outputs": [
    {
     "name": "stdout",
     "output_type": "stream",
     "text": [
      "Nishad Anand is name My\n"
     ]
    }
   ],
   "source": [
    "#REVERSE OF THE WORDS\n",
    "\n",
    "\n",
    "\n",
    "\n",
    "\n",
    "def reverse(str_r):\n",
    "    str_r=str_r[::-1]\n",
    "    return str_r\n",
    "\n",
    "\n",
    "\n",
    "def reverse_words(str_r):\n",
    "    n=len(str_r)\n",
    "    if(n==1):\n",
    "        return str_r\n",
    "    str2=str_r.split(\" \")\n",
    "    size=len(str2)\n",
    "    rev_all=\"\"\n",
    "    for i in range(size):\n",
    "        rev=reverse(str2[i])\n",
    "        rev_all=rev_all+rev+\" \"\n",
    "    d=reverse(rev_all)\n",
    "    return d.strip()\n",
    "str_r=\"My name is Anand Nishad\"\n",
    "print(reverse_words(str_r))"
   ]
  },
  {
   "cell_type": "code",
   "execution_count": 2,
   "id": "a1b41967",
   "metadata": {},
   "outputs": [
    {
     "name": "stdout",
     "output_type": "stream",
     "text": [
      "Enter number of elements:4\n",
      "Enter element:2\n",
      "Enter element:3\n",
      "Enter element:6\n",
      "Enter element:8\n",
      "Second largest element is: 6\n"
     ]
    }
   ],
   "source": [
    "#Find the second largest elements in the list.\n",
    "\n",
    "\n",
    "\n",
    "\n",
    "a=[]\n",
    "n=int(input(\"Enter number of elements:\"))\n",
    "for i in range(1,n+1):\n",
    "    b=int(input(\"Enter element:\"))\n",
    "    a.append(b)\n",
    "a.sort()\n",
    "print(\"Second largest element is:\",a[n-2])\n",
    "\n",
    "\n",
    "\n",
    "\n"
   ]
  },
  {
   "cell_type": "code",
   "execution_count": 4,
   "id": "12dca056",
   "metadata": {},
   "outputs": [
    {
     "name": "stdout",
     "output_type": "stream",
     "text": [
      "120\n",
      "120\n",
      "24\n",
      "6\n"
     ]
    }
   ],
   "source": [
    "#Factorial of the numbers \n",
    "\n",
    "\n",
    "#for User INPUT \n",
    "\n",
    "x=int(input(\"Enter the number :\"))\n",
    "mul=1\n",
    "for i in range(1,x+1):\n",
    "    mul=mul*i\n",
    "print(mul)\n",
    "\n",
    "#------------------------------------------------------------------------\n",
    "\n",
    "\n",
    "#for 1 input   ex - 5\n",
    "\n",
    "x=5\n",
    "mul=1\n",
    "for i in range(1,6):\n",
    "    mul=mul*i\n",
    "print(mul)\n",
    "\n",
    "\n",
    "#-------------------------------------------------------------------------\n",
    "\n",
    "#for multiple inputs in list input - \n",
    "\n",
    "x= [5,4,3]\n",
    "for i in x:\n",
    "    fact = 1\n",
    "    for j in range(1,i+1):\n",
    "        fact = fact*j\n",
    "    print(fact)"
   ]
  },
  {
   "cell_type": "code",
   "execution_count": 51,
   "id": "01192dbf",
   "metadata": {},
   "outputs": [
    {
     "name": "stdout",
     "output_type": "stream",
     "text": [
      "0\n",
      "1\n",
      "1\n",
      "2\n",
      "3\n"
     ]
    }
   ],
   "source": [
    "#fabinnaco number \n",
    "\n",
    "\n",
    "\n",
    "\n",
    "\n",
    "def fib(n):\n",
    "    a=0\n",
    "    b=1\n",
    "    print(a)\n",
    "    print(b)\n",
    "    for i in range(2,n):\n",
    "        c=a+b\n",
    "        a=b\n",
    "        b=c\n",
    "        print(c)\n",
    "        \n",
    "fib(5)"
   ]
  },
  {
   "cell_type": "code",
   "execution_count": 1,
   "id": "8b75d601",
   "metadata": {},
   "outputs": [
    {
     "name": "stdout",
     "output_type": "stream",
     "text": [
      "Enter the number:3\n",
      "3 Number is prime\n"
     ]
    }
   ],
   "source": [
    "#Number Is Prime Or Not\n",
    "\n",
    "\n",
    "\n",
    "\n",
    "x=int(input(\"Enter the number:\"))\n",
    "if x > 1:\n",
    "    for i in range(2,x):\n",
    "        if(x%i)==0:\n",
    "            print(x,\"number is not prime\")\n",
    "            break\n",
    "    else:\n",
    "        print(x,\"Number is prime\")\n",
    "else:\n",
    "    print(x,\"Number is not prime\")\n",
    "    \n",
    "    \n",
    "    "
   ]
  },
  {
   "cell_type": "code",
   "execution_count": 5,
   "id": "2ab1820c",
   "metadata": {},
   "outputs": [
    {
     "name": "stdout",
     "output_type": "stream",
     "text": [
      "Enter the number:525\n",
      "Number is palindrome\n"
     ]
    }
   ],
   "source": [
    "#Number is palindrome or not\n",
    "\n",
    "\n",
    "\n",
    "\n",
    "\n",
    "i=int(input(\"Enter the number:\"))\n",
    "rev=0\n",
    "x=i\n",
    "while(i>0):\n",
    "    rev=(rev*10)+i%10\n",
    "    i=i//10\n",
    "if(x==rev):\n",
    "    print(\"Number is palindrome\")\n",
    "else:\n",
    "    print(\"Number is Not Palindrome\")\n",
    "    "
   ]
  },
  {
   "cell_type": "code",
   "execution_count": 6,
   "id": "7e12e728",
   "metadata": {},
   "outputs": [
    {
     "name": "stdout",
     "output_type": "stream",
     "text": [
      "Enter the number to check the number is Armstrong or not153\n",
      "Number is Armstrong\n"
     ]
    }
   ],
   "source": [
    "#Armstrong Number \n",
    "\n",
    "\n",
    "\n",
    "\n",
    "i=int(input(\"Enter the number to check the number is Armstrong or not\"))\n",
    "orig=i\n",
    "sum=0\n",
    "while(i>0):\n",
    "    sum=sum+(i%10)*(i%10)*(i%10)\n",
    "    i=i//10\n",
    "if orig==sum:\n",
    "    print(\"Number is Armstrong\")\n",
    "else:\n",
    "    print(\"Number is not Armstrong\")"
   ]
  },
  {
   "cell_type": "code",
   "execution_count": 7,
   "id": "1c8dd737",
   "metadata": {},
   "outputs": [
    {
     "name": "stdout",
     "output_type": "stream",
     "text": [
      "Enter the number :11\n",
      "Number is odd\n"
     ]
    }
   ],
   "source": [
    "#Even or Not\n",
    "\n",
    "\n",
    "\n",
    "\n",
    "x=int(input(\"Enter the number :\"))\n",
    "if(x%2==0):\n",
    "    print(\"Number is even\")\n",
    "else:\n",
    "    print(\"Number is odd\")"
   ]
  },
  {
   "cell_type": "code",
   "execution_count": 8,
   "id": "29a0c06e",
   "metadata": {},
   "outputs": [
    {
     "name": "stdout",
     "output_type": "stream",
     "text": [
      "LCM is : 120.0\n"
     ]
    }
   ],
   "source": [
    "#LCM\n",
    "\n",
    "\n",
    "\n",
    "\n",
    "p = x = 40\n",
    "q = y = 30\n",
    "while x != y:\n",
    "    if x > y:\n",
    "        x = x - y\n",
    "    else:\n",
    "        y = y - x\n",
    "\n",
    "lcm = (p*q)/x\n",
    "print(\"LCM is :\", lcm)\n"
   ]
  },
  {
   "cell_type": "code",
   "execution_count": 9,
   "id": "dd6e5844",
   "metadata": {},
   "outputs": [
    {
     "name": "stdout",
     "output_type": "stream",
     "text": [
      "HCF of 20 and 25 is: 5\n"
     ]
    }
   ],
   "source": [
    "#HCF\n",
    "\n",
    "\n",
    "\n",
    "\n",
    "\n",
    "p = x = 20\n",
    "q = y = 25\n",
    "while x != y:\n",
    "    if x > y:\n",
    "        x = x - y\n",
    "    else:\n",
    "        y = y - x\n",
    "\n",
    "print(\"HCF of\", p, \"and\", q, \"is:\", x)\n",
    "\n"
   ]
  },
  {
   "cell_type": "code",
   "execution_count": 1,
   "id": "bfcb73a9",
   "metadata": {},
   "outputs": [
    {
     "name": "stdout",
     "output_type": "stream",
     "text": [
      "Enter the value of a:10\n",
      "Enter the value of b:5\n",
      "After swapping:\n",
      "Value of a: 5\n",
      "Value of b: 10\n"
     ]
    }
   ],
   "source": [
    "#Swapping/swap of 2/two Numbers without using Third Variable.\n",
    "\n",
    "a=int(input(\"Enter the value of a:\"))\n",
    "b=int(input(\"Enter the value of b:\"))\n",
    "a=a+b\n",
    "b=a-b\n",
    "a=a-b\n",
    "print(\"After swapping:\")\n",
    "print(\"Value of a:\",a)\n",
    "print(\"Value of b:\",b)\n",
    "\n",
    "\n",
    "\n",
    "#-------------------------------------------------------------------------------\n",
    "\n",
    "\n",
    "#Swapping/swap of 2/two Numbers using Third Variable.\n",
    "\n",
    "\n",
    "\n",
    "\n",
    "\n",
    "a=int(input(\"Enter the value of a:\"))\n",
    "b=int(input(\"Enter the value of b:\"))\n",
    "temp=a\n",
    "a=b\n",
    "b=temp\n",
    "print(\"After swapping:\")\n",
    "print(\"Value of a:\",a)\n",
    "print(\"Value of b:\",b)\n"
   ]
  },
  {
   "cell_type": "code",
   "execution_count": null,
   "id": "08213bda",
   "metadata": {},
   "outputs": [],
   "source": []
  },
  {
   "cell_type": "code",
   "execution_count": null,
   "id": "3713195a",
   "metadata": {},
   "outputs": [],
   "source": [
    "\n",
    "\n",
    "\n",
    "                                    Python Arrays Questions \n",
    "\n",
    "\n"
   ]
  }
 ],
 "metadata": {
  "kernelspec": {
   "display_name": "Python 3",
   "language": "python",
   "name": "python3"
  },
  "language_info": {
   "codemirror_mode": {
    "name": "ipython",
    "version": 3
   },
   "file_extension": ".py",
   "mimetype": "text/x-python",
   "name": "python",
   "nbconvert_exporter": "python",
   "pygments_lexer": "ipython3",
   "version": "3.8.8"
  }
 },
 "nbformat": 4,
 "nbformat_minor": 5
}
